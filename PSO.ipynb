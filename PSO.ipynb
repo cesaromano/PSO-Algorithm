{
 "cells": [
  {
   "cell_type": "markdown",
   "metadata": {},
   "source": [
    "Importing libraries"
   ]
  },
  {
   "cell_type": "code",
   "execution_count": 67,
   "metadata": {},
   "outputs": [],
   "source": [
    "import numpy as np\n",
    "from pylab import meshgrid,cm,imshow,show\n",
    "import matplotlib.pyplot as plt\n",
    "from mpl_toolkits import mplot3d"
   ]
  },
  {
   "cell_type": "markdown",
   "metadata": {},
   "source": [
    "Initializing variables"
   ]
  },
  {
   "cell_type": "code",
   "execution_count": 68,
   "metadata": {},
   "outputs": [
    {
     "data": {
      "text/plain": [
       "(array([ 1.36055961,  0.02940023,  1.21913172, -1.28082932,  0.99239266,\n",
       "        -1.2584871 ,  0.53992411, -1.53267395,  0.16079503, -1.18550572]),\n",
       " array([-0.70297786,  1.07605998,  1.74527159,  0.369143  ,  0.83141579,\n",
       "        -1.35159751, -0.6476108 ,  1.05944608,  0.73991348,  0.11923553]))"
      ]
     },
     "execution_count": 68,
     "metadata": {},
     "output_type": "execute_result"
    }
   ],
   "source": [
    "nParticles = 10\n",
    "vmin = -2\n",
    "vmax = 2\n",
    "vx = np.random.uniform(vmin, vmax, nParticles)\n",
    "vy = np.random.uniform(vmin, vmax, nParticles)\n",
    "t = 1\n",
    "\n",
    "vx, vy"
   ]
  },
  {
   "cell_type": "markdown",
   "metadata": {},
   "source": [
    "Defining the function $f(x,y)=(1-x)^2+100(y-x^2)^2$"
   ]
  },
  {
   "cell_type": "code",
   "execution_count": 69,
   "metadata": {},
   "outputs": [],
   "source": [
    "def f(x, y):\n",
    "    return (1-x)**2 + 100*(y-(x**2))**2"
   ]
  },
  {
   "cell_type": "markdown",
   "metadata": {},
   "source": [
    "Initializing 21 pair random particles betwen the range -5, 5"
   ]
  },
  {
   "cell_type": "code",
   "execution_count": 70,
   "metadata": {},
   "outputs": [
    {
     "data": {
      "text/plain": [
       "array([[ 0.82091979,  2.28945403],\n",
       "       [ 2.85352901, -3.78749735],\n",
       "       [-3.73016048,  2.31132806],\n",
       "       [ 3.4613571 ,  1.31964418],\n",
       "       [ 3.10080006, -2.96075667],\n",
       "       [-2.71372283, -1.32804996],\n",
       "       [ 3.71584511,  3.77884856],\n",
       "       [-1.23183777,  3.89407897],\n",
       "       [ 1.23244353, -3.8742533 ],\n",
       "       [ 2.37086118, -4.51977074]])"
      ]
     },
     "execution_count": 70,
     "metadata": {},
     "output_type": "execute_result"
    }
   ],
   "source": [
    "positions = np.random.uniform(-5, 5, ((nParticles, 2)))\n",
    "positions"
   ]
  },
  {
   "cell_type": "code",
   "execution_count": 71,
   "metadata": {},
   "outputs": [],
   "source": [
    "bestPos = positions #making the pre-loop best individual positions same as positions"
   ]
  },
  {
   "cell_type": "code",
   "execution_count": 72,
   "metadata": {},
   "outputs": [],
   "source": [
    "max_it = 1000 #Initializing the max number of iterations"
   ]
  },
  {
   "cell_type": "markdown",
   "metadata": {},
   "source": [
    "Main loop"
   ]
  },
  {
   "cell_type": "code",
   "execution_count": 73,
   "metadata": {},
   "outputs": [
    {
     "name": "stdout",
     "output_type": "stream",
     "text": [
      "999\n"
     ]
    }
   ],
   "source": [
    "evalPos = np.array([int(f(positions[particle, 0], positions[particle, 1])) for particle in range(nParticles)]) #gettig the pre-loop particles performances\n",
    "#print(f\"Initial performance: {evalPos}\")\n",
    "#print(f\"Initial mean performance: {np.mean(evalPos)}\")\n",
    "\n",
    "fResult = []\n",
    "\n",
    "while t<max_it:\n",
    "\n",
    "    fi1 = np.random.uniform(0, 2.05, nParticles) #generating the fi1 random values vector\n",
    "    fi2 = np.random.uniform(0, 2.05, nParticles) #generating the fi2 random values vector\n",
    "\n",
    "    for particle in range(nParticles): #for each particle\n",
    "\n",
    "        evalPos = f(positions[particle, 0], positions[particle, 1]) #getting each particle performance\n",
    "        evalBestPos = f(bestPos[particle, 0], bestPos[particle, 1]) #getting each best particle performance\n",
    "\n",
    "        if evalPos < evalBestPos: #if position performance is better than their best performance \n",
    "            bestPos[particle] = positions[particle] #update best position\n",
    "\n",
    "        bestNeigIndx = particle #make current particle the best neighbour\n",
    "        neigIndices = [particle-1, particle+1] #getting neighbours indices\n",
    "\n",
    "        for neighbour in range(len(neigIndices)): #for each neighbour\n",
    "\n",
    "            neigPos = np.take(bestPos, neigIndices[neighbour], mode='wrap', axis=0) #take neighbours best positions\n",
    "            evalBestNeigPos = f(neigPos[0], neigPos[1]) #getting each best neighbour performance\n",
    "            evalBestGerPos = f(positions[bestNeigIndx, 0], positions[bestNeigIndx, 1]) #getting best general performance\n",
    "\n",
    "            if evalBestNeigPos < evalBestGerPos: #if best neighbour performance is better than best general performance\n",
    "                \n",
    "                if neigIndices[neighbour] == nParticles: #avoid unbounds\n",
    "                    bestNeigIndx = 0\n",
    "                else:\n",
    "                    bestNeigIndx = neigIndices[neighbour] #update best neighbour index\n",
    "\n",
    "        vx[particle] = vx[particle] + fi1[particle] * (bestPos[particle, 0]-positions[particle, 0]) \\\n",
    "                        + fi2[particle] * (bestPos[bestNeigIndx, 0]-positions[particle, 0]) #updating velocity\n",
    "\n",
    "        if vx[particle] > vmax: #limitating max velocity\n",
    "            vx[particle] = vmax\n",
    "\n",
    "        if vx[particle] < vmin: #limitating min velocity\n",
    "            vx[particle] = vmin\n",
    "\n",
    "        positions[particle, 0] = positions[particle, 0] + vx[particle] #updating x coordinate\n",
    "        positions[particle, 1] = positions[particle, 1] + vx[particle] #updating y coordinate\n",
    "\n",
    "    evalPos = np.array([int(f(positions[particle, 0], positions[particle, 1])) for particle in range(len(positions))])\n",
    "    fResult.append(np.mean(evalPos)) #appending each iteration mean performance \n",
    "\n",
    "    t+=1\n",
    "\n",
    "#print(np.min(fResult))\n",
    "print(len(fResult))"
   ]
  },
  {
   "cell_type": "code",
   "execution_count": 74,
   "metadata": {},
   "outputs": [
    {
     "data": {
      "text/plain": [
       "Text(0, 0.5, 'y')"
      ]
     },
     "execution_count": 74,
     "metadata": {},
     "output_type": "execute_result"
    },
    {
     "data": {
      "image/png": "[encoded data removed]",
      "text/plain": [
       "<Figure size 432x288 with 2 Axes>"
      ]
     },
     "metadata": {
      "needs_background": "light"
     },
     "output_type": "display_data"
    }
   ],
   "source": [
    "x = np.arange(-5.0, 5.0, 0.1)\n",
    "y = np.arange(-5.0, 5.0, 0.1)\n",
    "X, Y = np.meshgrid(x, y)\n",
    "Z = f(X, Y)\n",
    "\n",
    "plt.contourf(X, Y, Z)\n",
    "plt.colorbar()\n",
    "plt.xlabel('x')\n",
    "plt.ylabel('y')\n",
    "#plt.show()"
   ]
  },
  {
   "cell_type": "code",
   "execution_count": 75,
   "metadata": {},
   "outputs": [
    {
     "name": "stdout",
     "output_type": "stream",
     "text": [
      "[[ -3.19177018  -1.72323594]\n",
      " [ -3.36296592 -10.00399227]\n",
      " [  0.14419348   6.18568202]\n",
      " [  3.16410654   1.02239362]\n",
      " [  0.20992685  -5.85162988]\n",
      " [ -0.25464067   1.13103221]\n",
      " [  0.61039698   0.67340043]\n",
      " [  0.40475058   5.53066733]\n",
      " [  1.0632595   -4.04343732]\n",
      " [  1.51916124  -5.37147067]]\n"
     ]
    },
    {
     "data": {
      "text/plain": [
       "<mpl_toolkits.mplot3d.art3d.Path3DCollection at 0x214926ad190>"
      ]
     },
     "execution_count": 75,
     "metadata": {},
     "output_type": "execute_result"
    },
    {
     "data": {
      "image/png": "[encoded data removed]",
      "text/plain": [
       "<Figure size 432x288 with 1 Axes>"
      ]
     },
     "metadata": {
      "needs_background": "light"
     },
     "output_type": "display_data"
    }
   ],
   "source": [
    "print(positions)\n",
    "\n",
    "x = [position[0] for position in positions]\n",
    "y = [position[1] for position in positions]\n",
    "X, Y = np.meshgrid(x, y)\n",
    "Z = f(X, Y)\n",
    "\n",
    "fig = plt.figure()\n",
    "ax = plt.axes(projection='3d')\n",
    "ax.scatter(X, Y, Z)"
   ]
  }
 ],
 "metadata": {
  "kernelspec": {
   "display_name": "Python 3.9.12 ('base')",
   "language": "python",
   "name": "python3"
  },
  "language_info": {
   "codemirror_mode": {
    "name": "ipython",
    "version": 3
   },
   "file_extension": ".py",
   "mimetype": "text/x-python",
   "name": "python",
   "nbconvert_exporter": "python",
   "pygments_lexer": "ipython3",
   "version": "3.9.12"
  },
  "orig_nbformat": 4,
  "vscode": {
   "interpreter": {
    "hash": "493a115083b28d4ef8fe4a564fed7d7a15c5e889c444903a2b3ac8b1850d9f91"
   }
  }
 },
 "nbformat": 4,
 "nbformat_minor": 2
}
