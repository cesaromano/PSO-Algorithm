{
 "cells": [
  {
   "cell_type": "markdown",
   "metadata": {},
   "source": [
    "Importing libraries"
   ]
  },
  {
   "cell_type": "code",
   "execution_count": 1,
   "metadata": {},
   "outputs": [],
   "source": [
    "import numpy as np"
   ]
  },
  {
   "cell_type": "markdown",
   "metadata": {},
   "source": [
    "Defining the function $f(x,y)=(1-x)^2+100(y-x^2)^2$"
   ]
  },
  {
   "cell_type": "code",
   "execution_count": 28,
   "metadata": {},
   "outputs": [],
   "source": [
    "vmax = 2\n",
    "vmin = -2\n",
    "fi1 = fi2 = 2.05\n",
    "t = 1\n",
    "max_it = 10"
   ]
  },
  {
   "cell_type": "code",
   "execution_count": 2,
   "metadata": {},
   "outputs": [],
   "source": [
    "def f(x, y):\n",
    "    return (1-x)**2 + 100*(y-(x**2))**2"
   ]
  },
  {
   "cell_type": "markdown",
   "metadata": {},
   "source": [
    "Initializing 21 pair random particles betwen the range -5, 5"
   ]
  },
  {
   "cell_type": "code",
   "execution_count": 25,
   "metadata": {},
   "outputs": [
    {
     "name": "stdout",
     "output_type": "stream",
     "text": [
      "[[-4.72634729  2.22686868]\n",
      " [-3.27257093 -1.3112756 ]\n",
      " [-0.50932549 -3.8533449 ]\n",
      " [ 1.62551635  3.87463269]\n",
      " [-0.34032692  3.6384876 ]\n",
      " [ 4.57841878  1.20656123]\n",
      " [ 0.56364602 -3.4549158 ]\n",
      " [ 4.45765127  0.41812313]\n",
      " [-2.58856227  3.65753989]\n",
      " [ 4.81296026  3.89683043]\n",
      " [-4.30830586  1.1324472 ]\n",
      " [ 2.13656225 -4.10130575]\n",
      " [ 3.38518812 -0.91781124]\n",
      " [ 1.41625731 -4.9598301 ]\n",
      " [-4.76965572  3.60453805]\n",
      " [ 4.95239827 -3.04734563]\n",
      " [-4.45751005  1.43247142]\n",
      " [-4.60393458  1.12287655]\n",
      " [-1.93231817 -2.49677465]\n",
      " [-4.13243468 -1.0652081 ]\n",
      " [-3.91682752  1.53994626]]\n"
     ]
    }
   ],
   "source": [
    "X = np.random.uniform(-5, 5, ((21, 2)))\n",
    "print(X)"
   ]
  },
  {
   "cell_type": "markdown",
   "metadata": {},
   "source": [
    "Getting the best individual performance"
   ]
  },
  {
   "cell_type": "code",
   "execution_count": 58,
   "metadata": {},
   "outputs": [
    {
     "name": "stdout",
     "output_type": "stream",
     "text": [
      "[40479.9940639383, 14468.689530215977, 1693.7553692203553, 152.2548182439658, 1242.7134743941288, 39040.219179137996, 1423.4510125038785, 37852.054436143655, 938.9324973090154, 37139.18101056102, 30405.363992110375, 7511.600980132942, 15325.46897835448, 4852.152317857693, 36686.68870366932, 76045.93140864206, 34021.802735950936, 40325.29009693867, 3890.6712117339766, 32940.37279476918, 19072.568205820848] 21\n"
     ]
    }
   ],
   "source": [
    "bEval = []\n",
    "for particle in range(len(X)):\n",
    "\n",
    "    eval = f(X[particle, 0], X[particle, 1])\n",
    "    bEval.append(eval)\n",
    "    if eval > bEval[particle]:\n",
    "        bEval[particle] = eval\n",
    "\n",
    "print(bEval, len(bEval))"
   ]
  },
  {
   "cell_type": "code",
   "execution_count": 59,
   "metadata": {},
   "outputs": [
    {
     "name": "stdout",
     "output_type": "stream",
     "text": [
      "[-4.72634729  2.22686868 -3.27257093 -1.3112756  -0.50932549 -3.8533449\n",
      "  1.62551635  3.87463269 -0.34032692  3.6384876   4.57841878  1.20656123\n",
      "  0.56364602 -3.4549158   4.45765127  0.41812313 -2.58856227  3.65753989\n",
      "  4.81296026  3.89683043 -4.30830586  1.1324472   2.13656225 -4.10130575\n",
      "  3.38518812 -0.91781124  1.41625731 -4.9598301  -4.76965572  3.60453805\n",
      "  4.95239827 -3.04734563 -4.45751005  1.43247142 -4.60393458  1.12287655\n",
      " -1.93231817 -2.49677465 -4.13243468 -1.0652081  -3.91682752  1.53994626]\n"
     ]
    }
   ],
   "source": [
    "\n",
    "#A way to iter through the np.array\n",
    "for particle in np.nditer(X, flags=['external_loop']):\n",
    "    print(particle)"
   ]
  },
  {
   "cell_type": "code",
   "execution_count": null,
   "metadata": {},
   "outputs": [],
   "source": [
    "while t < max_it:\n",
    "    for particle in range(X[0], X[-1]):"
   ]
  }
 ],
 "metadata": {
  "kernelspec": {
   "display_name": "Python 3.9.12 ('base')",
   "language": "python",
   "name": "python3"
  },
  "language_info": {
   "codemirror_mode": {
    "name": "ipython",
    "version": 3
   },
   "file_extension": ".py",
   "mimetype": "text/x-python",
   "name": "python",
   "nbconvert_exporter": "python",
   "pygments_lexer": "ipython3",
   "version": "3.9.12"
  },
  "orig_nbformat": 4,
  "vscode": {
   "interpreter": {
    "hash": "493a115083b28d4ef8fe4a564fed7d7a15c5e889c444903a2b3ac8b1850d9f91"
   }
  }
 },
 "nbformat": 4,
 "nbformat_minor": 2
}
