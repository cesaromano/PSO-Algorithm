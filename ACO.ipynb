{
 "cells": [
  {
   "cell_type": "markdown",
   "metadata": {},
   "source": [
    "Importing libraries"
   ]
  },
  {
   "cell_type": "code",
   "execution_count": 1,
   "metadata": {},
   "outputs": [],
   "source": [
    "import numpy as np"
   ]
  },
  {
   "cell_type": "markdown",
   "metadata": {},
   "source": [
    "Initializing variables"
   ]
  },
  {
   "cell_type": "code",
   "execution_count": 2,
   "metadata": {},
   "outputs": [
    {
     "data": {
      "text/plain": [
       "(array([ 1.46424998,  1.00679379, -0.99494425,  1.59198952, -1.01761563,\n",
       "        -0.26537793,  1.8381176 ,  0.73417017,  1.44142122,  1.38589221]),\n",
       " array([ 1.9096603 , -0.4056354 , -1.55850897,  0.73661991, -1.93363758,\n",
       "        -0.16997944, -1.07879989, -0.99415843, -0.29923336, -0.41297684]))"
      ]
     },
     "execution_count": 2,
     "metadata": {},
     "output_type": "execute_result"
    }
   ],
   "source": [
    "nParticles = 10\n",
    "vmin = -2\n",
    "vmax = 2\n",
    "vx = np.random.uniform(vmin, vmax, nParticles)\n",
    "vy = np.random.uniform(vmin, vmax, nParticles)\n",
    "t = 1\n",
    "\n",
    "vx, vy"
   ]
  },
  {
   "cell_type": "markdown",
   "metadata": {},
   "source": [
    "Defining the function $f(x,y)=(1-x)^2+100(y-x^2)^2$"
   ]
  },
  {
   "cell_type": "code",
   "execution_count": 3,
   "metadata": {},
   "outputs": [],
   "source": [
    "def f(x, y):\n",
    "    x = int(x)\n",
    "    y = int(y)\n",
    "    return (1-x)**2 + 100*(y-(x**2))**2"
   ]
  },
  {
   "cell_type": "markdown",
   "metadata": {},
   "source": [
    "Initializing 21 pair random particles betwen the range -5, 5"
   ]
  },
  {
   "cell_type": "code",
   "execution_count": 4,
   "metadata": {},
   "outputs": [
    {
     "data": {
      "text/plain": [
       "array([[-1.30566707, -0.89286303],\n",
       "       [-2.50075481,  1.59248652],\n",
       "       [-0.97543072,  3.75674252],\n",
       "       [ 0.68220456, -1.8511845 ],\n",
       "       [-0.42205381,  3.21435969],\n",
       "       [-2.95975105,  1.59264092],\n",
       "       [ 1.61032609,  2.95461991],\n",
       "       [-1.04037919,  4.13098046],\n",
       "       [ 0.79646464, -3.70300513],\n",
       "       [ 2.16081304,  0.24101295]])"
      ]
     },
     "execution_count": 4,
     "metadata": {},
     "output_type": "execute_result"
    }
   ],
   "source": [
    "positions = np.random.uniform(-5, 5, ((nParticles, 2)))\n",
    "positions"
   ]
  },
  {
   "cell_type": "code",
   "execution_count": 5,
   "metadata": {},
   "outputs": [],
   "source": [
    "bestPos = positions #making the pre-loop best individual positions same as positions"
   ]
  },
  {
   "cell_type": "code",
   "execution_count": 6,
   "metadata": {},
   "outputs": [],
   "source": [
    "max_it = 1000 #Initializing the max number of iterations"
   ]
  },
  {
   "cell_type": "markdown",
   "metadata": {},
   "source": [
    "Main loop"
   ]
  },
  {
   "cell_type": "code",
   "execution_count": 7,
   "metadata": {},
   "outputs": [
    {
     "name": "stdout",
     "output_type": "stream",
     "text": [
      "[ 104  909  901  101  901  909  100  904  901 1601] 733.1 1\n",
      "411.6\n"
     ]
    }
   ],
   "source": [
    "evalPos = np.array([int(f(positions[particle, 0], positions[particle, 1])) for particle in range(nParticles)]) #gettig the pre-loop particles performances\n",
    "print(evalPos, np.mean(evalPos), t)\n",
    "\n",
    "fResult = []\n",
    "\n",
    "while t<max_it:\n",
    "\n",
    "    fi1 = np.random.uniform(0, 2.05, nParticles) #generating the fi1 random values vector\n",
    "    fi2 = np.random.uniform(0, 2.05, nParticles) #generating the fi2 random values vector\n",
    "\n",
    "    for particle in range(nParticles): #for each particle\n",
    "\n",
    "        evalPos = f(positions[particle, 0], positions[particle, 1]) #getting each particle performance\n",
    "        evalBestPos = f(bestPos[particle, 0], bestPos[particle, 1]) #getting each best particle performance\n",
    "\n",
    "        if evalPos < evalBestPos: #if position performance is better than their best performance \n",
    "            bestPos[particle] = positions[particle] #update best position\n",
    "\n",
    "        bestNeigIndx = particle #make current particle the best neighbour\n",
    "        neigIndices = [particle-1, particle+1] #getting neighbours indices\n",
    "\n",
    "        for neighbour in range(len(neigIndices)): #for each neighbour\n",
    "\n",
    "            neigPos = np.take(bestPos, neigIndices[neighbour], mode='wrap', axis=0) #take neighbours best positions\n",
    "            evalBestNeigPos = f(neigPos[0], neigPos[1]) #getting each best neighbour performance\n",
    "            evalBestGerPos = f(positions[bestNeigIndx, 0], positions[bestNeigIndx, 1]) #getting best general performance\n",
    "\n",
    "            if evalBestNeigPos < evalBestGerPos: #if best neighbour performance is better than best general performance\n",
    "                \n",
    "                if neigIndices[neighbour] == nParticles: #avoid unbounds\n",
    "                    bestNeigIndx = 0\n",
    "                else:\n",
    "                    bestNeigIndx = neigIndices[neighbour] #update best neighbour index\n",
    "\n",
    "        vx[particle] = vx[particle] + fi1[particle] * (bestPos[particle, 0]-positions[particle, 0]) \\\n",
    "                        + fi2[particle] * (bestPos[bestNeigIndx, 0]-positions[particle, 0]) #updating velocity\n",
    "\n",
    "        if vx[particle] > vmax: #limitating max velocity\n",
    "            vx[particle] = vmax\n",
    "\n",
    "        if vx[particle] < vmin: #limitating min velocity\n",
    "            vx[particle] = vmin\n",
    "\n",
    "        positions[particle, 0] = positions[particle, 0] + vx[particle] #updating x coordinate\n",
    "        positions[particle, 1] = positions[particle, 1] + vx[particle] #updating y coordinate\n",
    "\n",
    "    evalIndPos = np.array([int(f(positions[particle, 0], positions[particle, 1])) for particle in range(len(positions))])\n",
    "    fResult.append(np.mean(evalIndPos))\n",
    "\n",
    "    t+=1\n",
    "\n",
    "print(np.min(fResult))"
   ]
  },
  {
   "cell_type": "code",
   "execution_count": 8,
   "metadata": {},
   "outputs": [
    {
     "name": "stdout",
     "output_type": "stream",
     "text": [
      "[2.40581903 2.81862307]\n",
      "1\n"
     ]
    }
   ],
   "source": [
    "print(positions[0])\n",
    "print(f(0.0089, 0.0079))"
   ]
  }
 ],
 "metadata": {
  "kernelspec": {
   "display_name": "Python 3.9.12 ('base')",
   "language": "python",
   "name": "python3"
  },
  "language_info": {
   "codemirror_mode": {
    "name": "ipython",
    "version": 3
   },
   "file_extension": ".py",
   "mimetype": "text/x-python",
   "name": "python",
   "nbconvert_exporter": "python",
   "pygments_lexer": "ipython3",
   "version": "3.9.12"
  },
  "orig_nbformat": 4,
  "vscode": {
   "interpreter": {
    "hash": "493a115083b28d4ef8fe4a564fed7d7a15c5e889c444903a2b3ac8b1850d9f91"
   }
  }
 },
 "nbformat": 4,
 "nbformat_minor": 2
}
