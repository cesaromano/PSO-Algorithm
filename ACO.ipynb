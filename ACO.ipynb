{
 "cells": [
  {
   "cell_type": "markdown",
   "metadata": {},
   "source": [
    "Importing libraries"
   ]
  },
  {
   "cell_type": "code",
   "execution_count": 1,
   "metadata": {},
   "outputs": [],
   "source": [
    "import numpy as np"
   ]
  },
  {
   "cell_type": "code",
   "execution_count": 53,
   "metadata": {},
   "outputs": [],
   "source": [
    "vmin = -2\n",
    "vmax = 2\n",
    "vx = np.random.uniform(vmin, vmax, 21)\n",
    "vy = np.random.uniform(vmin, vmax, 21)\n",
    "t = 1\n",
    "max_it = 10\n",
    "\n",
    "#print(vx, vy)"
   ]
  },
  {
   "cell_type": "markdown",
   "metadata": {},
   "source": [
    "Defining the function $f(x,y)=(1-x)^2+100(y-x^2)^2$"
   ]
  },
  {
   "cell_type": "code",
   "execution_count": 3,
   "metadata": {},
   "outputs": [],
   "source": [
    "def f(x, y):\n",
    "    return (1-x)**2 + 100*(y-(x**2))**2"
   ]
  },
  {
   "cell_type": "markdown",
   "metadata": {},
   "source": [
    "Initializing 21 pair random particles betwen the range -5, 5"
   ]
  },
  {
   "cell_type": "code",
   "execution_count": 4,
   "metadata": {},
   "outputs": [
    {
     "name": "stdout",
     "output_type": "stream",
     "text": [
      "[[ 3.65295661  3.5300641 ]\n",
      " [-2.51916026 -1.23504974]\n",
      " [ 2.760358    1.33910767]\n",
      " [ 1.34667585  4.07863331]\n",
      " [ 4.32798392  3.30458498]\n",
      " [-0.3190267   3.86485326]\n",
      " [ 0.49042537  2.88340263]\n",
      " [ 3.26038845  3.56599152]\n",
      " [ 0.44779391 -0.30576132]\n",
      " [ 1.77186213  2.21971786]\n",
      " [ 4.02701331  2.47544601]\n",
      " [ 2.12484627  4.96501152]\n",
      " [ 0.2443935  -3.39127582]\n",
      " [-2.93338448  2.30969234]\n",
      " [ 3.3873514  -1.13834449]\n",
      " [-1.28794534  4.13853526]\n",
      " [-3.35767706 -2.20209974]\n",
      " [ 4.15524508 -4.89875942]\n",
      " [ 2.4245776   1.02598678]\n",
      " [ 3.50990198  4.84222238]\n",
      " [ 3.27584676  4.47306624]]\n"
     ]
    }
   ],
   "source": [
    "X = np.random.uniform(-5, 5, ((21, 2)))\n",
    "print(X)"
   ]
  },
  {
   "cell_type": "code",
   "execution_count": 47,
   "metadata": {},
   "outputs": [
    {
     "name": "stdout",
     "output_type": "stream",
     "text": [
      "[9.63855260e+03 5.75987134e+03 3.94752745e+03 5.13186838e+02\n",
      " 2.38098759e+04 1.41781335e+03 6.98744089e+02 4.99531861e+03\n",
      " 2.59369467e+01 8.51948411e+01 1.88917432e+04 2.15188647e+01\n",
      " 1.19151381e+03 3.97823970e+03 1.59132000e+04 6.20141806e+02\n",
      " 1.81795029e+04 4.91378850e+04 2.35679214e+03 5.59713594e+03\n",
      " 3.92156826e+03]\n"
     ]
    }
   ],
   "source": [
    "bestIndPos = np.array([f(X[particle, 0], X[particle, 1]) for particle in range(len(X))]) #gettig the pre-loop individual performances\n",
    "print(bestIndPos)"
   ]
  },
  {
   "cell_type": "code",
   "execution_count": null,
   "metadata": {},
   "outputs": [],
   "source": []
  },
  {
   "cell_type": "markdown",
   "metadata": {},
   "source": [
    "Getting the best individual performance"
   ]
  },
  {
   "cell_type": "code",
   "execution_count": 45,
   "metadata": {},
   "outputs": [
    {
     "name": "stdout",
     "output_type": "stream",
     "text": [
      "0 -1\n",
      "1 2\n",
      "2 3\n",
      "3 3\n",
      "4 3\n",
      "5 6\n",
      "6 6\n",
      "7 8\n",
      "8 8\n",
      "9 8\n",
      "10 11\n",
      "11 11\n",
      "12 11\n",
      "13 12\n",
      "14 15\n",
      "15 15\n",
      "16 15\n",
      "17 18\n",
      "18 18\n",
      "19 18\n",
      "20 20\n"
     ]
    }
   ],
   "source": [
    "for particle in range(len(X)): #for each particle\n",
    "\n",
    "    fi1 = np.random.uniform(0, 2.05, 21) #generating the random values vector\n",
    "    fi2 = np.random.uniform(0, 2.05, 21) #generating the random values vector\n",
    "\n",
    "    eval = f(X[particle, 0], X[particle, 1]) #getting each individual performance\n",
    "    #bEval[particle] = eval\n",
    "    if eval < bestIndPos[particle]: #if current individual performance is better than their best performance \n",
    "        bestIndPos[particle] = eval #update best individual performance\n",
    "\n",
    "    bestNeigPos = particle #make current particle the best neighbour\n",
    "\n",
    "    neigIndices = [particle-1, particle+1] #getting particle neighbours indices\n",
    "\n",
    "    for neighbour in range(2):\n",
    "        n = np.take(bestIndPos, neigIndices[neighbour], mode='wrap')\n",
    "        #print(bPosI[particle], n)\n",
    "\n",
    "        if n < bestIndPos[bestNeigPos]: #comparing current particle performance to current neighbour\n",
    "            bestNeigPos = neigIndices[neighbour] #bestNeigPos updated if current neighbour is better than current particle\n",
    "    \n",
    "    vx[particle] = vx[particle] + fi1[particle] * (bestIndPos[particle]-)\n",
    "\n",
    "    print(particle, bestNeigPos)\n",
    "\n",
    "#print(bPosI, len(bPosI))"
   ]
  },
  {
   "cell_type": "code",
   "execution_count": 8,
   "metadata": {},
   "outputs": [
    {
     "name": "stdout",
     "output_type": "stream",
     "text": [
      "[ 3.65295661  3.5300641  -2.51916026 -1.23504974  2.760358    1.33910767\n",
      "  1.34667585  4.07863331  4.32798392  3.30458498 -0.3190267   3.86485326\n",
      "  0.49042537  2.88340263  3.26038845  3.56599152  0.44779391 -0.30576132\n",
      "  1.77186213  2.21971786  4.02701331  2.47544601  2.12484627  4.96501152\n",
      "  0.2443935  -3.39127582 -2.93338448  2.30969234  3.3873514  -1.13834449\n",
      " -1.28794534  4.13853526 -3.35767706 -2.20209974  4.15524508 -4.89875942\n",
      "  2.4245776   1.02598678  3.50990198  4.84222238  3.27584676  4.47306624]\n"
     ]
    }
   ],
   "source": [
    "#ready to use\n",
    "#A way to iter through the np.array\n",
    "for particle in np.nditer(X, flags=['external_loop']):\n",
    "    print(particle)"
   ]
  },
  {
   "cell_type": "code",
   "execution_count": 41,
   "metadata": {},
   "outputs": [
    {
     "name": "stdout",
     "output_type": "stream",
     "text": [
      "0\n"
     ]
    }
   ],
   "source": [
    "print(np.argmin([bPosI[-1], bPosI[0], bPosI[1]]))"
   ]
  }
 ],
 "metadata": {
  "kernelspec": {
   "display_name": "Python 3.9.12 ('base')",
   "language": "python",
   "name": "python3"
  },
  "language_info": {
   "codemirror_mode": {
    "name": "ipython",
    "version": 3
   },
   "file_extension": ".py",
   "mimetype": "text/x-python",
   "name": "python",
   "nbconvert_exporter": "python",
   "pygments_lexer": "ipython3",
   "version": "3.9.12"
  },
  "orig_nbformat": 4,
  "vscode": {
   "interpreter": {
    "hash": "493a115083b28d4ef8fe4a564fed7d7a15c5e889c444903a2b3ac8b1850d9f91"
   }
  }
 },
 "nbformat": 4,
 "nbformat_minor": 2
}
