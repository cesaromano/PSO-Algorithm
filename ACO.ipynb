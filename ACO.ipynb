{
 "cells": [
  {
   "cell_type": "markdown",
   "metadata": {},
   "source": [
    "Importing libraries"
   ]
  },
  {
   "cell_type": "code",
   "execution_count": 763,
   "metadata": {},
   "outputs": [],
   "source": [
    "import numpy as np"
   ]
  },
  {
   "cell_type": "code",
   "execution_count": 764,
   "metadata": {},
   "outputs": [
    {
     "data": {
      "text/plain": [
       "(array([-0.59921187,  0.00528626,  1.88165688, -1.16652471,  0.01223517,\n",
       "         0.18245022, -0.43715333, -1.87905199,  1.15018183,  1.96879666]),\n",
       " array([-0.90550952, -1.20756116,  0.41400905, -1.074693  ,  0.26620369,\n",
       "        -1.74711355, -1.78837263, -1.71867941, -0.74677687,  0.04917606]))"
      ]
     },
     "execution_count": 764,
     "metadata": {},
     "output_type": "execute_result"
    }
   ],
   "source": [
    "nParticles = 10\n",
    "vmin = -2\n",
    "vmax = 2\n",
    "vx = np.random.uniform(vmin, vmax, nParticles)\n",
    "vy = np.random.uniform(vmin, vmax, nParticles)\n",
    "t = 1\n",
    "\n",
    "vx, vy"
   ]
  },
  {
   "cell_type": "markdown",
   "metadata": {},
   "source": [
    "Defining the function $f(x,y)=(1-x)^2+100(y-x^2)^2$"
   ]
  },
  {
   "cell_type": "code",
   "execution_count": 765,
   "metadata": {},
   "outputs": [],
   "source": [
    "def f(x, y):\n",
    "    x = int(x)\n",
    "    y = int(y)\n",
    "    return (1-x)**2 + 100*(y-(x**2))**2"
   ]
  },
  {
   "cell_type": "markdown",
   "metadata": {},
   "source": [
    "Initializing 21 pair random particles betwen the range -5, 5"
   ]
  },
  {
   "cell_type": "code",
   "execution_count": 766,
   "metadata": {},
   "outputs": [
    {
     "data": {
      "text/plain": [
       "array([[-3.53687624,  1.57975026],\n",
       "       [-2.07381196,  1.58486415],\n",
       "       [ 3.49077602, -4.4797038 ],\n",
       "       [-0.03290172,  4.98784061],\n",
       "       [ 2.19072632, -2.57378777],\n",
       "       [ 3.28977054, -4.63147176],\n",
       "       [ 1.61421112,  0.77897201],\n",
       "       [-0.224267  , -4.91164826],\n",
       "       [-4.61311079,  2.30046998],\n",
       "       [ 4.38688255, -3.09857134]])"
      ]
     },
     "execution_count": 766,
     "metadata": {},
     "output_type": "execute_result"
    }
   ],
   "source": [
    "positions = np.random.uniform(-5, 5, ((nParticles, 2)))\n",
    "positions"
   ]
  },
  {
   "cell_type": "code",
   "execution_count": 767,
   "metadata": {},
   "outputs": [],
   "source": [
    "bestIndPos = positions #gettig the pre-loop best individual positions"
   ]
  },
  {
   "cell_type": "code",
   "execution_count": 768,
   "metadata": {},
   "outputs": [
    {
     "data": {
      "text/plain": [
       "array([ 6416,   909, 16904,  1601,  3601, 16904,   100,  1601, 19625,\n",
       "       36109])"
      ]
     },
     "execution_count": 768,
     "metadata": {},
     "output_type": "execute_result"
    }
   ],
   "source": [
    "evalIndPos = np.array([int(f(positions[particle, 0], positions[particle, 1])) for particle in range(nParticles)]) #gettig the pre-loop individual performances\n",
    "evalIndPos"
   ]
  },
  {
   "cell_type": "markdown",
   "metadata": {},
   "source": [
    "Getting the best individual performance"
   ]
  },
  {
   "cell_type": "code",
   "execution_count": 769,
   "metadata": {},
   "outputs": [],
   "source": [
    "max_it = 1000"
   ]
  },
  {
   "cell_type": "code",
   "execution_count": 770,
   "metadata": {},
   "outputs": [
    {
     "name": "stdout",
     "output_type": "stream",
     "text": [
      "[ 6416   909 16904  1601  3601 16904   100  1601 19625 36109] 10377.0 1\n",
      "2551.9\n"
     ]
    }
   ],
   "source": [
    "evalIndPos = np.array([int(f(positions[particle, 0], positions[particle, 1])) for particle in range(len(positions))])\n",
    "print(evalIndPos, np.mean(evalIndPos), t)\n",
    "\n",
    "bResult = []\n",
    "\n",
    "while t<max_it:\n",
    "\n",
    "    fi1 = np.random.uniform(0, 2.05, nParticles) #generating the fi1 random values vector\n",
    "    fi2 = np.random.uniform(0, 2.05, nParticles) #generating the fi2 random values vector\n",
    "\n",
    "    for particle in range(nParticles): #for each particle\n",
    "\n",
    "        evalPos = f(positions[particle, 0], positions[particle, 1]) #getting each individual position performance\n",
    "        evalBestIndPos = f(bestIndPos[particle, 0], bestIndPos[particle, 1]) #getting each best individual position performance\n",
    "\n",
    "        if evalPos < evalBestIndPos: #if current individual performance is better than their best performance \n",
    "            bestIndPos[particle] = positions[particle] #update best individual performance\n",
    "\n",
    "        bestNeigIndx = particle #make current particle the best neighbour\n",
    "\n",
    "        neigIndices = [particle-1, particle+1] #getting particle neighbours indices\n",
    "\n",
    "        for neighbour in range(len(neigIndices)):\n",
    "            neigPos = np.take(bestIndPos, neigIndices[neighbour], mode='wrap', axis=0)\n",
    "            evalBestNeigPos = f(neigPos[0], neigPos[1])\n",
    "            evalBestGerPos = f(positions[bestNeigIndx, 0], positions[bestNeigIndx, 1])\n",
    "\n",
    "            if evalBestNeigPos < evalBestGerPos: #comparing current particle performance to current neighbour\n",
    "                \n",
    "                if neigIndices[neighbour] == nParticles:\n",
    "                    bestNeigIndx = 0\n",
    "                else:\n",
    "                    bestNeigIndx = neigIndices[neighbour] #bestNeigPos updated if current neighbour is better than current particle\n",
    "\n",
    "        vx[particle] = vx[particle] + fi1[particle] * (bestIndPos[particle, 0]-positions[particle, 0]) + fi2[particle] * (bestIndPos[bestNeigIndx, 0]-positions[particle, 0])\n",
    "\n",
    "        if vx[particle] > vmax:\n",
    "            vx[particle] = vmax\n",
    "\n",
    "        if vx[particle] < vmin:\n",
    "            vx[particle] = vmin\n",
    "\n",
    "        positions[particle, 0] = positions[particle, 0] + vx[particle]\n",
    "\n",
    "        #vy[particle] = vy[particle] + fi1[particle] * (bestIndPos[particle, 1]-positions[particle, 1]) + fi2[particle] * (bestIndPos[bestNeigIndx, 1]-positions[particle, 1])\n",
    "\n",
    "        #if vy[particle] > vmax:\n",
    "            #vy[particle] = vmax\n",
    "\n",
    "        #if vy[particle] < vmin:\n",
    "            #vy[particle] = vmin\n",
    "\n",
    "        positions[particle, 1] = positions[particle, 1] + vx[particle]\n",
    "\n",
    "    evalIndPos = np.array([int(f(positions[particle, 0], positions[particle, 1])) for particle in range(len(positions))])\n",
    "\n",
    "    bResult.append(np.mean(evalIndPos))\n",
    "\n",
    "    t+=1\n",
    "\n",
    "    #print(evalIndPos, np.mean(evalIndPos), t)\n",
    "\n",
    "print(np.min(bResult))\n",
    "\n",
    "#positions"
   ]
  },
  {
   "cell_type": "code",
   "execution_count": 771,
   "metadata": {},
   "outputs": [],
   "source": [
    "#evalIndPos = np.array([int(f(positions[particle, 0], positions[particle, 1])) for particle in range(len(positions))])\n",
    "#evalIndPos"
   ]
  },
  {
   "cell_type": "code",
   "execution_count": 772,
   "metadata": {},
   "outputs": [
    {
     "name": "stdout",
     "output_type": "stream",
     "text": [
      "[-0.09515499  5.02147151]\n",
      "1\n"
     ]
    }
   ],
   "source": [
    "print(positions[0])\n",
    "print(f(0.0089, 0.0079))"
   ]
  }
 ],
 "metadata": {
  "kernelspec": {
   "display_name": "Python 3.9.12 ('base')",
   "language": "python",
   "name": "python3"
  },
  "language_info": {
   "codemirror_mode": {
    "name": "ipython",
    "version": 3
   },
   "file_extension": ".py",
   "mimetype": "text/x-python",
   "name": "python",
   "nbconvert_exporter": "python",
   "pygments_lexer": "ipython3",
   "version": "3.9.12"
  },
  "orig_nbformat": 4,
  "vscode": {
   "interpreter": {
    "hash": "493a115083b28d4ef8fe4a564fed7d7a15c5e889c444903a2b3ac8b1850d9f91"
   }
  }
 },
 "nbformat": 4,
 "nbformat_minor": 2
}
