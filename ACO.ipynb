{
 "cells": [
  {
   "cell_type": "markdown",
   "metadata": {},
   "source": [
    "Importing libraries"
   ]
  },
  {
   "cell_type": "code",
   "execution_count": 1,
   "metadata": {},
   "outputs": [],
   "source": [
    "import numpy as np"
   ]
  },
  {
   "cell_type": "markdown",
   "metadata": {},
   "source": [
    "Defining the function $f(x,y)=(1-x)^2+100(y-x^2)^2$"
   ]
  },
  {
   "cell_type": "code",
   "execution_count": 2,
   "metadata": {},
   "outputs": [],
   "source": [
    "vmax = 2\n",
    "vmin = -2\n",
    "fi1 = fi2 = 2.05\n",
    "t = 1\n",
    "max_it = 10"
   ]
  },
  {
   "cell_type": "code",
   "execution_count": 3,
   "metadata": {},
   "outputs": [],
   "source": [
    "def f(x, y):\n",
    "    return (1-x)**2 + 100*(y-(x**2))**2"
   ]
  },
  {
   "cell_type": "markdown",
   "metadata": {},
   "source": [
    "Initializing 21 pair random particles betwen the range -5, 5"
   ]
  },
  {
   "cell_type": "code",
   "execution_count": 4,
   "metadata": {},
   "outputs": [
    {
     "name": "stdout",
     "output_type": "stream",
     "text": [
      "[[ 3.65295661  3.5300641 ]\n",
      " [-2.51916026 -1.23504974]\n",
      " [ 2.760358    1.33910767]\n",
      " [ 1.34667585  4.07863331]\n",
      " [ 4.32798392  3.30458498]\n",
      " [-0.3190267   3.86485326]\n",
      " [ 0.49042537  2.88340263]\n",
      " [ 3.26038845  3.56599152]\n",
      " [ 0.44779391 -0.30576132]\n",
      " [ 1.77186213  2.21971786]\n",
      " [ 4.02701331  2.47544601]\n",
      " [ 2.12484627  4.96501152]\n",
      " [ 0.2443935  -3.39127582]\n",
      " [-2.93338448  2.30969234]\n",
      " [ 3.3873514  -1.13834449]\n",
      " [-1.28794534  4.13853526]\n",
      " [-3.35767706 -2.20209974]\n",
      " [ 4.15524508 -4.89875942]\n",
      " [ 2.4245776   1.02598678]\n",
      " [ 3.50990198  4.84222238]\n",
      " [ 3.27584676  4.47306624]]\n"
     ]
    }
   ],
   "source": [
    "X = np.random.uniform(-5, 5, ((21, 2)))\n",
    "print(X)"
   ]
  },
  {
   "cell_type": "markdown",
   "metadata": {},
   "source": [
    "Getting the best individual performance"
   ]
  },
  {
   "cell_type": "code",
   "execution_count": 5,
   "metadata": {},
   "outputs": [
    {
     "name": "stdout",
     "output_type": "stream",
     "text": [
      "[9638.55259877283, 5759.871337505109, 3947.527453027392, 513.186837967534, 23809.875857410425, 1417.8133455108082, 698.7440889014069, 4995.3186134356865, 25.93694665500719, 85.19484114570209, 18891.74324638938, 21.518864651087842, 1191.5138051812155, 3978.23970371848, 15913.200015217632, 620.1418059415965, 18179.502875703263, 49137.885013091465, 2356.7921406099276, 5597.13593539828, 3921.5682562648026] 21\n"
     ]
    }
   ],
   "source": [
    "bEval = []\n",
    "for particle in range(len(X)):\n",
    "\n",
    "    eval = f(X[particle, 0], X[particle, 1])\n",
    "    bEval.append(eval)\n",
    "    if eval > bEval[particle]:\n",
    "        bEval[particle] = eval\n",
    "\n",
    "print(bEval, len(bEval))"
   ]
  },
  {
   "cell_type": "code",
   "execution_count": 8,
   "metadata": {},
   "outputs": [
    {
     "name": "stdout",
     "output_type": "stream",
     "text": [
      "[ 3.65295661  3.5300641  -2.51916026 -1.23504974  2.760358    1.33910767\n",
      "  1.34667585  4.07863331  4.32798392  3.30458498 -0.3190267   3.86485326\n",
      "  0.49042537  2.88340263  3.26038845  3.56599152  0.44779391 -0.30576132\n",
      "  1.77186213  2.21971786  4.02701331  2.47544601  2.12484627  4.96501152\n",
      "  0.2443935  -3.39127582 -2.93338448  2.30969234  3.3873514  -1.13834449\n",
      " -1.28794534  4.13853526 -3.35767706 -2.20209974  4.15524508 -4.89875942\n",
      "  2.4245776   1.02598678  3.50990198  4.84222238  3.27584676  4.47306624]\n"
     ]
    }
   ],
   "source": [
    "#ready to use\n",
    "#A way to iter through the np.array\n",
    "for particle in np.nditer(X, flags=['external_loop']):\n",
    "    print(particle)"
   ]
  },
  {
   "cell_type": "code",
   "execution_count": 7,
   "metadata": {},
   "outputs": [
    {
     "ename": "IndentationError",
     "evalue": "expected an indented block (3113954345.py, line 4)",
     "output_type": "error",
     "traceback": [
      "\u001b[1;36m  Input \u001b[1;32mIn [7]\u001b[1;36m\u001b[0m\n\u001b[1;33m    #ready to use\u001b[0m\n\u001b[1;37m                 ^\u001b[0m\n\u001b[1;31mIndentationError\u001b[0m\u001b[1;31m:\u001b[0m expected an indented block\n"
     ]
    }
   ],
   "source": [
    "while t < max_it:\n",
    "    for particle in range(X[0], X[-1]):\n",
    "\n",
    "#ready to use"
   ]
  }
 ],
 "metadata": {
  "kernelspec": {
   "display_name": "Python 3.9.12 ('base')",
   "language": "python",
   "name": "python3"
  },
  "language_info": {
   "codemirror_mode": {
    "name": "ipython",
    "version": 3
   },
   "file_extension": ".py",
   "mimetype": "text/x-python",
   "name": "python",
   "nbconvert_exporter": "python",
   "pygments_lexer": "ipython3",
   "version": "3.9.12"
  },
  "orig_nbformat": 4,
  "vscode": {
   "interpreter": {
    "hash": "493a115083b28d4ef8fe4a564fed7d7a15c5e889c444903a2b3ac8b1850d9f91"
   }
  }
 },
 "nbformat": 4,
 "nbformat_minor": 2
}
