{
 "cells": [
  {
   "cell_type": "markdown",
   "metadata": {},
   "source": [
    "Importing libraries"
   ]
  },
  {
   "cell_type": "code",
   "execution_count": 134,
   "metadata": {},
   "outputs": [],
   "source": [
    "import numpy as np"
   ]
  },
  {
   "cell_type": "code",
   "execution_count": 135,
   "metadata": {},
   "outputs": [
    {
     "data": {
      "text/plain": [
       "(array([-1.84262285,  0.20715066, -0.46164835, -0.51183703, -0.81004843,\n",
       "         0.41830366, -1.7119201 , -1.41647865, -1.27195363,  1.87390244,\n",
       "         1.92051504, -1.39955598, -0.52662777, -0.23731582,  0.73161508,\n",
       "         1.24598598, -1.29471929,  1.66454723, -1.33446242,  0.75321592,\n",
       "         0.6092031 ]),\n",
       " array([-0.48009082,  1.15915466, -1.12088652,  1.02258748, -0.88029922,\n",
       "         1.58479046, -0.97952899,  0.62967181, -1.45851414,  0.29909023,\n",
       "         0.70964054, -0.04960445,  0.45443071,  0.9019233 ,  1.16596962,\n",
       "        -0.53326399, -1.52998191,  1.13301791, -0.49089138,  0.45219249,\n",
       "        -1.54720213]))"
      ]
     },
     "execution_count": 135,
     "metadata": {},
     "output_type": "execute_result"
    }
   ],
   "source": [
    "vmin = -2\n",
    "vmax = 2\n",
    "vx = np.random.uniform(vmin, vmax, 21)\n",
    "vy = np.random.uniform(vmin, vmax, 21)\n",
    "t = 1\n",
    "max_it = 5\n",
    "\n",
    "vx, vy"
   ]
  },
  {
   "cell_type": "markdown",
   "metadata": {},
   "source": [
    "Defining the function $f(x,y)=(1-x)^2+100(y-x^2)^2$"
   ]
  },
  {
   "cell_type": "code",
   "execution_count": 136,
   "metadata": {},
   "outputs": [],
   "source": [
    "def f(x, y):\n",
    "    return (1-x)**2 + 100*(y-(x**2))**2"
   ]
  },
  {
   "cell_type": "markdown",
   "metadata": {},
   "source": [
    "Initializing 21 pair random particles betwen the range -5, 5"
   ]
  },
  {
   "cell_type": "code",
   "execution_count": 137,
   "metadata": {},
   "outputs": [
    {
     "data": {
      "text/plain": [
       "array([[ 0.18940156,  4.06830273],\n",
       "       [-1.61851822, -0.50726993],\n",
       "       [-4.40757857,  1.94538695],\n",
       "       [-0.35992807, -3.16129077],\n",
       "       [ 0.83961886, -1.43367378],\n",
       "       [-4.35681885, -2.75947505],\n",
       "       [-1.16465339, -0.70207089],\n",
       "       [-3.60555683,  1.18630196],\n",
       "       [ 0.86658743, -4.55483206],\n",
       "       [ 4.58137973,  2.44315901],\n",
       "       [ 2.77112994,  2.49980585],\n",
       "       [ 4.60456346, -0.79551907],\n",
       "       [ 3.13228879,  4.84445278],\n",
       "       [ 3.19185385,  2.72084225],\n",
       "       [ 1.00552078,  1.16149023],\n",
       "       [ 2.08934262,  1.86368042],\n",
       "       [-2.25799455,  4.68411318],\n",
       "       [ 1.57972337, -3.8101908 ],\n",
       "       [-3.18262557, -0.85513965],\n",
       "       [-2.5968547 , -0.03150483],\n",
       "       [ 1.91796729,  2.47217076]])"
      ]
     },
     "execution_count": 137,
     "metadata": {},
     "output_type": "execute_result"
    }
   ],
   "source": [
    "positions = np.random.uniform(-5, 5, ((21, 2)))\n",
    "positions"
   ]
  },
  {
   "cell_type": "code",
   "execution_count": 138,
   "metadata": {},
   "outputs": [],
   "source": [
    "bestIndPos = positions #gettig the pre-loop best individual positions"
   ]
  },
  {
   "cell_type": "code",
   "execution_count": 139,
   "metadata": {},
   "outputs": [
    {
     "data": {
      "text/plain": [
       "array([ 1626,   984, 30589,  1084,   457, 47297,   428, 13977,  2815,\n",
       "       34407,  2685, 48402,  2471,  5580,     2,   627,    27,  3976,\n",
       "       12082,  4603,   146])"
      ]
     },
     "execution_count": 139,
     "metadata": {},
     "output_type": "execute_result"
    }
   ],
   "source": [
    "evalIndPos = np.array([int(f(positions[particle, 0], positions[particle, 1])) for particle in range(len(positions))]) #gettig the pre-loop individual performances\n",
    "evalIndPos"
   ]
  },
  {
   "cell_type": "markdown",
   "metadata": {},
   "source": [
    "Getting the best individual performance"
   ]
  },
  {
   "cell_type": "code",
   "execution_count": 140,
   "metadata": {},
   "outputs": [
    {
     "data": {
      "text/plain": [
       "array([[-1.65322129,  2.22567988],\n",
       "       [-1.41136756, -0.30011927],\n",
       "       [-4.86922693,  1.4837386 ],\n",
       "       [-0.8717651 , -3.6731278 ],\n",
       "       [ 0.02957043, -2.24372221],\n",
       "       [-3.93851519, -2.34117139],\n",
       "       [-2.87657348, -2.41399099],\n",
       "       [-5.02203549, -0.2301767 ],\n",
       "       [-0.4053662 , -5.82678569],\n",
       "       [ 6.45528217,  4.31706145],\n",
       "       [ 4.69164497,  4.42032089],\n",
       "       [ 3.20500748, -2.19507505],\n",
       "       [ 2.60566102,  4.31782501],\n",
       "       [ 2.95453803,  2.48352643],\n",
       "       [ 1.73713586,  1.89310532],\n",
       "       [ 3.33532859,  3.1096664 ],\n",
       "       [-3.55271384,  3.38939389],\n",
       "       [ 3.2442706 , -2.14564357],\n",
       "       [-4.51708799, -2.18960207],\n",
       "       [-1.84363878,  0.72171109],\n",
       "       [ 2.52717039,  3.08137386]])"
      ]
     },
     "execution_count": 140,
     "metadata": {},
     "output_type": "execute_result"
    }
   ],
   "source": [
    "while t<max_it:\n",
    "\n",
    "    for particle in range(len(positions)): #for each particle\n",
    "\n",
    "        fi1 = np.random.uniform(0, 2.05, 21) #generating the fi1 random values vector\n",
    "        fi2 = np.random.uniform(0, 2.05, 21) #generating the fi2 random values vector\n",
    "\n",
    "        evalPos = f(positions[particle, 0], positions[particle, 1]) #getting each individual position performance\n",
    "        evalBestIndPos = f(bestIndPos[particle, 0], bestIndPos[particle, 1])\n",
    "\n",
    "        if evalPos < evalBestIndPos: #if current individual performance is better than their best performance \n",
    "            bestIndPos[particle] = positions[particle] #update best individual performance\n",
    "\n",
    "        bestNeigIndx = particle #make current particle the best neighbour\n",
    "\n",
    "        neigIndices = [particle-1, particle+1] #getting particle neighbours indices\n",
    "\n",
    "        for neighbour in range(2):\n",
    "            neigPos = np.take(bestIndPos, neigIndices[neighbour], mode='wrap', axis=0)\n",
    "            evalBestNeigPos = f(neigPos[0], neigPos[1])\n",
    "\n",
    "            if evalBestNeigPos < evalPos: #comparing current particle performance to current neighbour\n",
    "                \n",
    "                bestNeigIndx = neigIndices[neighbour] #bestNeigPos updated if current neighbour is better than current particle\n",
    "\n",
    "                if neigIndices[neighbour] == 21:\n",
    "                    bestNeigIndx = 0\n",
    "\n",
    "        vx[particle] = vx[particle] + fi1[particle] * (bestIndPos[particle, 0]-positions[particle, 0]) \n",
    "        + fi2[particle] * (bestIndPos[bestNeigIndx, 0]-positions[particle, 0])\n",
    "\n",
    "        if vx[particle] > vmax:\n",
    "            vx[particle] = vmax\n",
    "\n",
    "        if vx[particle] < vmin:\n",
    "            vx[particle] = vmin\n",
    "\n",
    "        positions[particle, 0] = positions[particle, 0] + vx[particle]\n",
    "\n",
    "        vy[particle] = vy[particle] + fi1[particle] * (bestIndPos[particle, 1]-positions[particle, 1]) \n",
    "        + fi2[particle] * (bestIndPos[bestNeigIndx, 1]-positions[particle, 1])\n",
    "\n",
    "        if vy[particle] > vmax:\n",
    "            vy[particle] = vmax\n",
    "\n",
    "        if vy[particle] < vmin:\n",
    "            vy[particle] = vmin\n",
    "\n",
    "        positions[particle, 1] = positions[particle, 1] + vx[particle]\n",
    "\n",
    "        t+=1\n",
    "\n",
    "positions"
   ]
  },
  {
   "cell_type": "code",
   "execution_count": 141,
   "metadata": {},
   "outputs": [
    {
     "data": {
      "text/plain": [
       "array([    32,    531,  49432,   1968,    504,  31897,  11439,  64811,\n",
       "         3591, 139558,  30958,  15547,    613,   3904,    127,   6429,\n",
       "         8544,  16060,  51077,    724,   1094])"
      ]
     },
     "execution_count": 141,
     "metadata": {},
     "output_type": "execute_result"
    }
   ],
   "source": [
    "evalIndPos = np.array([int(f(positions[particle, 0], positions[particle, 1])) for particle in range(len(positions))])\n",
    "evalIndPos"
   ]
  },
  {
   "cell_type": "code",
   "execution_count": 142,
   "metadata": {},
   "outputs": [
    {
     "name": "stdout",
     "output_type": "stream",
     "text": [
      "0\n"
     ]
    }
   ],
   "source": [
    "print(f(1, 1))"
   ]
  }
 ],
 "metadata": {
  "kernelspec": {
   "display_name": "Python 3.9.12 ('base')",
   "language": "python",
   "name": "python3"
  },
  "language_info": {
   "codemirror_mode": {
    "name": "ipython",
    "version": 3
   },
   "file_extension": ".py",
   "mimetype": "text/x-python",
   "name": "python",
   "nbconvert_exporter": "python",
   "pygments_lexer": "ipython3",
   "version": "3.9.12"
  },
  "orig_nbformat": 4,
  "vscode": {
   "interpreter": {
    "hash": "493a115083b28d4ef8fe4a564fed7d7a15c5e889c444903a2b3ac8b1850d9f91"
   }
  }
 },
 "nbformat": 4,
 "nbformat_minor": 2
}
