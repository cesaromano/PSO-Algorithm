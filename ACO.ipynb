{
 "cells": [
  {
   "cell_type": "markdown",
   "metadata": {},
   "source": [
    "Importing libraries"
   ]
  },
  {
   "cell_type": "code",
   "execution_count": 9,
   "metadata": {},
   "outputs": [],
   "source": [
    "import numpy as np"
   ]
  },
  {
   "cell_type": "markdown",
   "metadata": {},
   "source": [
    "Initializing variables"
   ]
  },
  {
   "cell_type": "code",
   "execution_count": 10,
   "metadata": {},
   "outputs": [
    {
     "data": {
      "text/plain": [
       "(array([ 0.06195238,  0.57652805, -0.42904105, -1.3351336 ,  0.55252517,\n",
       "        -1.63351554, -1.52563906,  0.00670221,  1.83400082,  1.77929145]),\n",
       " array([ 1.28943651, -0.18923887,  1.3132125 , -0.33628481,  1.12270734,\n",
       "        -1.08351512, -0.40367405,  1.30817598,  0.0429682 ,  1.47257197]))"
      ]
     },
     "execution_count": 10,
     "metadata": {},
     "output_type": "execute_result"
    }
   ],
   "source": [
    "nParticles = 10\n",
    "vmin = -2\n",
    "vmax = 2\n",
    "vx = np.random.uniform(vmin, vmax, nParticles)\n",
    "vy = np.random.uniform(vmin, vmax, nParticles)\n",
    "t = 1\n",
    "\n",
    "vx, vy"
   ]
  },
  {
   "cell_type": "markdown",
   "metadata": {},
   "source": [
    "Defining the function $f(x,y)=(1-x)^2+100(y-x^2)^2$"
   ]
  },
  {
   "cell_type": "code",
   "execution_count": 11,
   "metadata": {},
   "outputs": [],
   "source": [
    "def f(x, y):\n",
    "    x = int(x)\n",
    "    y = int(y)\n",
    "    return (1-x)**2 + 100*(y-(x**2))**2"
   ]
  },
  {
   "cell_type": "markdown",
   "metadata": {},
   "source": [
    "Initializing 21 pair random particles betwen the range -5, 5"
   ]
  },
  {
   "cell_type": "code",
   "execution_count": 12,
   "metadata": {},
   "outputs": [
    {
     "data": {
      "text/plain": [
       "array([[ 4.29234561,  3.58197269],\n",
       "       [-0.50363317,  4.58650945],\n",
       "       [ 2.09868071, -0.04299002],\n",
       "       [-1.58186453, -4.4628762 ],\n",
       "       [-0.58606423, -1.14709036],\n",
       "       [-4.5024357 ,  4.98661842],\n",
       "       [ 1.78382206,  4.97055867],\n",
       "       [ 0.53728651, -2.9004757 ],\n",
       "       [-2.64971592, -2.92965422],\n",
       "       [-3.4165336 , -4.83138989]])"
      ]
     },
     "execution_count": 12,
     "metadata": {},
     "output_type": "execute_result"
    }
   ],
   "source": [
    "positions = np.random.uniform(-5, 5, ((nParticles, 2)))\n",
    "positions"
   ]
  },
  {
   "cell_type": "code",
   "execution_count": 13,
   "metadata": {},
   "outputs": [],
   "source": [
    "bestPos = positions #making the pre-loop best individual positions same as positions"
   ]
  },
  {
   "cell_type": "code",
   "execution_count": 14,
   "metadata": {},
   "outputs": [],
   "source": [
    "max_it = 1000 #Initializing the max number of iterations"
   ]
  },
  {
   "cell_type": "markdown",
   "metadata": {},
   "source": [
    "Main loop"
   ]
  },
  {
   "cell_type": "code",
   "execution_count": 15,
   "metadata": {},
   "outputs": [
    {
     "name": "stdout",
     "output_type": "stream",
     "text": [
      "[16909  1601  1601  2504   101 14425   900   401  3609 16916] 5896.7 1\n",
      "272.5\n"
     ]
    }
   ],
   "source": [
    "evalPos = np.array([int(f(positions[particle, 0], positions[particle, 1])) for particle in range(nParticles)]) #gettig the pre-loop particles performances\n",
    "print(evalPos, np.mean(evalPos), t)\n",
    "\n",
    "fResult = []\n",
    "\n",
    "while t<max_it:\n",
    "\n",
    "    fi1 = np.random.uniform(0, 2.05, nParticles) #generating the fi1 random values vector\n",
    "    fi2 = np.random.uniform(0, 2.05, nParticles) #generating the fi2 random values vector\n",
    "\n",
    "    for particle in range(nParticles): #for each particle\n",
    "\n",
    "        evalPos = f(positions[particle, 0], positions[particle, 1]) #getting each particle performance\n",
    "        evalBestPos = f(bestPos[particle, 0], bestPos[particle, 1]) #getting each best particle performance\n",
    "\n",
    "        if evalPos < evalBestPos: #if position performance is better than their best performance \n",
    "            bestPos[particle] = positions[particle] #update best position\n",
    "\n",
    "        bestNeigIndx = particle #make current particle the best neighbour\n",
    "        neigIndices = [particle-1, particle+1] #getting neighbours indices\n",
    "\n",
    "        for neighbour in range(len(neigIndices)): #for each neighbour\n",
    "\n",
    "            neigPos = np.take(bestPos, neigIndices[neighbour], mode='wrap', axis=0) #take neighbours best positions\n",
    "            evalBestNeigPos = f(neigPos[0], neigPos[1]) #getting each best neighbour performance\n",
    "            evalBestGerPos = f(positions[bestNeigIndx, 0], positions[bestNeigIndx, 1]) #getting best general performance\n",
    "\n",
    "            if evalBestNeigPos < evalBestGerPos: #if best neighbour performance is better than best general performance\n",
    "                \n",
    "                if neigIndices[neighbour] == nParticles: #avoid unbounds\n",
    "                    bestNeigIndx = 0\n",
    "                else:\n",
    "                    bestNeigIndx = neigIndices[neighbour] #update best neighbour index\n",
    "\n",
    "        vx[particle] = vx[particle] + fi1[particle] * (bestPos[particle, 0]-positions[particle, 0]) \\\n",
    "                        + fi2[particle] * (bestPos[bestNeigIndx, 0]-positions[particle, 0]) #updating velocity\n",
    "\n",
    "        if vx[particle] > vmax: #limitating max velocity\n",
    "            vx[particle] = vmax\n",
    "\n",
    "        if vx[particle] < vmin: #limitating min velocity\n",
    "            vx[particle] = vmin\n",
    "\n",
    "        positions[particle, 0] = positions[particle, 0] + vx[particle] #updating x coordinate\n",
    "        positions[particle, 1] = positions[particle, 1] + vx[particle] #updating y coordinate\n",
    "\n",
    "    evalIndPos = np.array([int(f(positions[particle, 0], positions[particle, 1])) for particle in range(len(positions))])\n",
    "    fResult.append(np.mean(evalIndPos)) #appending each iteration mean performance \n",
    "\n",
    "    t+=1\n",
    "\n",
    "print(np.min(fResult))"
   ]
  },
  {
   "cell_type": "code",
   "execution_count": 16,
   "metadata": {},
   "outputs": [
    {
     "name": "stdout",
     "output_type": "stream",
     "text": [
      "[5.05131267 4.34093975]\n",
      "1\n"
     ]
    }
   ],
   "source": [
    "print(positions[0])\n",
    "print(f(0.0089, 0.0079))"
   ]
  }
 ],
 "metadata": {
  "kernelspec": {
   "display_name": "Python 3.9.12 ('base')",
   "language": "python",
   "name": "python3"
  },
  "language_info": {
   "codemirror_mode": {
    "name": "ipython",
    "version": 3
   },
   "file_extension": ".py",
   "mimetype": "text/x-python",
   "name": "python",
   "nbconvert_exporter": "python",
   "pygments_lexer": "ipython3",
   "version": "3.9.12"
  },
  "orig_nbformat": 4,
  "vscode": {
   "interpreter": {
    "hash": "493a115083b28d4ef8fe4a564fed7d7a15c5e889c444903a2b3ac8b1850d9f91"
   }
  }
 },
 "nbformat": 4,
 "nbformat_minor": 2
}
